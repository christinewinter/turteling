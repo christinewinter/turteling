{
 "cells": [
  {
   "cell_type": "markdown",
   "metadata": {},
   "source": [
    "## Getting Started with Turtle"
   ]
  },
  {
   "cell_type": "markdown",
   "metadata": {},
   "source": [
    "[Turtle](https://docs.python.org/3/library/turtle.html) is a library that is primarily used to introduce kids to programming. The former pointer looked like a turtle. The main idea with the library is that we can send the turtle (or pointer) over the flat plane by feeding it commands or coordinates. In that way we can draw lines, shapes and all kinds of forms. \n",
    "\n",
    "In the following steps I will walk you through the basics of ipyturtle, which is a Turtle version that can run directly in Jupyter notebooks.\n",
    "Here we import the library and initiate the Turtle object. You should see a window popping up."
   ]
  },
  {
   "cell_type": "code",
   "execution_count": 27,
   "metadata": {},
   "outputs": [
    {
     "data": {
      "application/vnd.jupyter.widget-view+json": {
       "model_id": "01687a38d20c43adaa8d1300d136b9e2",
       "version_major": 2,
       "version_minor": 0
      },
      "text/plain": [
       "Turtle()"
      ]
     },
     "metadata": {},
     "output_type": "display_data"
    }
   ],
   "source": [
    "from ipyturtle import Turtle\n",
    "t = Turtle()\n",
    "t"
   ]
  },
  {
   "cell_type": "markdown",
   "metadata": {},
   "source": [
    "There are countless way to let it snow in Turtle. In this examples we will have a look at generating snowflakes with fractals by using the definition of [Koch's Snowflake](http://gofiguremath.org/fractals/koch-snowflake/).\n",
    "\n",
    "The rule to define a Koch snowflake is:\n",
    "- devide a straight line into 3 parts\n",
    "- replace the middle part with an equilateral triangle (all sites have the same length and the angle between sites it 60 degrees) \n",
    "\n",
    "The simplest example look like this in code:"
   ]
  },
  {
   "cell_type": "code",
   "execution_count": 28,
   "metadata": {},
   "outputs": [],
   "source": [
    "length = 150\n",
    "length_side = length/3\n",
    "\n",
    "#rotating to make it easier to understand\n",
    "t.right(90)\n",
    "\n",
    "t.forward(length_side) \n",
    "t.left(60)\n",
    "t.forward(length_side)\n",
    "t.right(120)\n",
    "t.forward(length_side) \n",
    "t.left(60) \n",
    "t.forward(length_side) "
   ]
  },
  {
   "attachments": {
    "download%20%281%29.png": {
     "image/png": "[encoded data removed]"
    }
   },
   "cell_type": "markdown",
   "metadata": {},
   "source": [
    "![download%20%281%29.png](attachment:download%20%281%29.png)"
   ]
  },
  {
   "cell_type": "markdown",
   "metadata": {},
   "source": [
    "This is a good start, but we want to get a snowflake and not a line...\n",
    "We can use a loop to iterate until we come back to our starting point.\n",
    "A circle has an inner angle of 120degrees, so to fill up the star, we need 3 iterations, since we are rotating 120 degrees after each implementation of the Koch rule \n",
    " \n",
    "    \n"
   ]
  },
  {
   "cell_type": "code",
   "execution_count": 36,
   "metadata": {},
   "outputs": [],
   "source": [
    "def iterate_koch(length):\n",
    "    length_side = length/3\n",
    "    t.forward(length_side) \n",
    "    t.left(60)\n",
    "    t.forward(length_side)\n",
    "    t.right(120)\n",
    "    t.forward(length_side) \n",
    "    t.left(60) \n",
    "    t.forward(length_side) \n",
    "t.reset()\n",
    "for i in range(3):\n",
    "    iterate_koch(length)\n",
    "    t.right(120)\n"
   ]
  },
  {
   "attachments": {
    "Screenshot%20from%202020-11-25%2021-06-08.png": {
     "image/png": "[encoded data removed]"
    }
   },
   "cell_type": "markdown",
   "metadata": {},
   "source": [
    "![Screenshot%20from%202020-11-25%2021-06-08.png](attachment:Screenshot%20from%202020-11-25%2021-06-08.png)\n"
   ]
  },
  {
   "attachments": {
    "Screenshot%20from%202020-11-25%2021-06-51.png": {
     "image/png": "[encoded data removed]"
    }
   },
   "cell_type": "markdown",
   "metadata": {},
   "source": [
    "![Screenshot%20from%202020-11-25%2021-06-51.png](attachment:Screenshot%20from%202020-11-25%2021-06-51.png)"
   ]
  },
  {
   "cell_type": "markdown",
   "metadata": {},
   "source": [
    "Now we have a star and the backbone for our fractal.\n",
    "Fractal are repeating structures, so no matter how far you zoom in, you will always see the similar structure.\n",
    "Instead of drawing the fractal all at once, we can split it up into smaller pieces. \n",
    "A way to generate those pieces is by using recursion.\n",
    "\n",
    "Recursive function call themselves with different values. Usually there is an exit condition since the programme would otherwise run forever and eventually run out of memory on your computer.\n",
    "Recursion sounds a bit confusing, but it will get clearer when we look at the shapes we get "
   ]
  },
  {
   "cell_type": "code",
   "execution_count": 39,
   "metadata": {},
   "outputs": [],
   "source": [
    "def snowflake(lengthSide, levels): \n",
    "    \"\"\"Draw Koch snowflake\n",
    "    length_side: initial length of the line we want to draw a triangle in\n",
    "    levels: how often the rule should be applied on one side or how much detail the snowflake should get\n",
    "    \n",
    "    \"\"\"\n",
    "    \n",
    "    if levels == 0:  # this is our exit condition\n",
    "        t.forward(lengthSide) \n",
    "        return\n",
    "    lengthSide = lengthSide/3\n",
    "    snowflake(lengthSide, levels-1) \n",
    "    t.left(60) \n",
    "    snowflake(lengthSide, levels-1) \n",
    "    t.right(120) \n",
    "    snowflake(lengthSide, levels-1) \n",
    "    t.left(60) \n",
    "    snowflake(lengthSide, levels-1) \n",
    "    \n",
    "def draw_one_flake(length, level):\n",
    "    \"\"\"Drawing a whole snowflake and arriving back at the starting point.\"\"\"\n",
    "    t.pendown()            \n",
    "    for i in range(3):     \n",
    "        snowflake(length, level) \n",
    "        t.right(120)\n",
    "    t.penup()"
   ]
  },
  {
   "cell_type": "code",
   "execution_count": 40,
   "metadata": {},
   "outputs": [],
   "source": [
    "# With Level 1 our function draws a star\n",
    "t.reset()\n",
    "draw_one_flake(100, 1)"
   ]
  },
  {
   "cell_type": "code",
   "execution_count": 41,
   "metadata": {},
   "outputs": [],
   "source": [
    "# With Level 2 we get a more snowflake-like structure\n",
    "t.reset()\n",
    "draw_one_flake(100, 2)"
   ]
  },
  {
   "cell_type": "code",
   "execution_count": 43,
   "metadata": {},
   "outputs": [],
   "source": [
    "# From Level 3 on we get a snowflake\n",
    "# this step takes much more time, since we have much more lines to draw\n",
    "t.reset()\n",
    "draw_one_flake(100, 4)"
   ]
  },
  {
   "cell_type": "code",
   "execution_count": 44,
   "metadata": {},
   "outputs": [],
   "source": [
    "# A small thinking exercise: What does level 0 draw?\n",
    "t.reset()\n",
    "draw_one_flake(100, 0)"
   ]
  },
  {
   "cell_type": "markdown",
   "metadata": {},
   "source": [
    "There a couple of fun math calculations one can do with fractals. For example calculating the perimeter of the snowflake when levels get infinite. Spoiler alert: 3 * s * (4/3) ** n Think about how many segments we are adding in each iteration... \n",
    "\n",
    "\n",
    "But there are more fun things that we can do in Turtle as well putting maths aside. \n",
    "For example drawing more snowflakes and adding colors!!! "
   ]
  },
  {
   "cell_type": "code",
   "execution_count": 46,
   "metadata": {},
   "outputs": [],
   "source": [
    "t.reset()\n",
    "length = 60.0   \n",
    "level = 2\n",
    "t.pencolor('Blue')\n",
    "t.hideturtle()\n",
    "\n",
    "for color in [\"Red\", \"Blue\", \"Green\", \"Red\", \"Black\", \"Yellow\"]:\n",
    "    t.pencolor(color)\n",
    "    draw_one_flake(length, level)\n",
    "    t.left(120)\n",
    "    t.forward(length/3)\n",
    "    t.right(60)\n",
    "    t.forward(length/3)\n",
    "    "
   ]
  },
  {
   "cell_type": "markdown",
   "metadata": {},
   "source": [
    "Now the sky is the limit... \n",
    "ipyturtle does not provide the whole range of functions compared to Turtle. Still it is a good starting point to try it out. I made a similar version of this notebook but with Turtle functions and added one method that can fill the whole are of the screen with snowflakes."
   ]
  }
 ],
 "metadata": {
  "kernelspec": {
   "display_name": "Python 3",
   "language": "python",
   "name": "python3"
  },
  "language_info": {
   "codemirror_mode": {
    "name": "ipython",
    "version": 3
   },
   "file_extension": ".py",
   "mimetype": "text/x-python",
   "name": "python",
   "nbconvert_exporter": "python",
   "pygments_lexer": "ipython3",
   "version": "3.8.5"
  }
 },
 "nbformat": 4,
 "nbformat_minor": 4
}
