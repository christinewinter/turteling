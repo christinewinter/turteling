{
 "cells": [
  {
   "cell_type": "code",
   "execution_count": 137,
   "metadata": {},
   "outputs": [
    {
     "data": {
      "application/vnd.jupyter.widget-view+json": {
       "model_id": "688040dd78484aa7aa1b38e9429733cd",
       "version_major": 2,
       "version_minor": 0
      },
      "text/plain": [
       "Turtle()"
      ]
     },
     "metadata": {},
     "output_type": "display_data"
    }
   ],
   "source": [
    "from ipyturtle import Turtle\n",
    "t = Turtle()\n",
    "t"
   ]
  },
  {
   "cell_type": "code",
   "execution_count": 138,
   "metadata": {},
   "outputs": [],
   "source": [
    "# Python program to print complete Koch Curve. \n",
    "  \n",
    "# function to create koch snowflake or koch curve \n",
    "def snowflake(lengthSide, levels): \n",
    "    if levels == 0: \n",
    "        t.forward(lengthSide) \n",
    "        return\n",
    "    lengthSide = lengthSide/3\n",
    "    snowflake(lengthSide, levels-1) \n",
    "    t.left(60) \n",
    "    snowflake(lengthSide, levels-1) \n",
    "    t.right(120) \n",
    "    snowflake(lengthSide, levels-1) \n",
    "    t.left(60) \n",
    "    snowflake(lengthSide, levels-1) \n",
    "\n",
    "def draw_one_flake(length, level):\n",
    "    t.pendown()            \n",
    "    for i in range(3):     \n",
    "        snowflake(length, level) \n",
    "        t.right(120)\n",
    "    t.penup()\n",
    "\n",
    "\n",
    "# defining the speed of the turtle \n",
    "#speed(9999)                    \n",
    "length = 100.0   \n",
    "level = 2\n",
    "t.pencolor('Blue')\n",
    "t.hideturtle()\n",
    "\n",
    "for color in [\"Red\", \"Blue\", \"Green\", \"Red\", \"Black\", \"Yellow\"]:\n",
    "    t.pencolor(color)\n",
    "    draw_one_flake(length, level)\n",
    "    t.left(120)\n",
    "    t.forward(length/3)\n",
    "    t.right(60)\n",
    "    t.forward(length/3)\n",
    "    "
   ]
  },
  {
   "cell_type": "code",
   "execution_count": null,
   "metadata": {},
   "outputs": [],
   "source": []
  }
 ],
 "metadata": {
  "kernelspec": {
   "display_name": "Python 3",
   "language": "python",
   "name": "python3"
  },
  "language_info": {
   "codemirror_mode": {
    "name": "ipython",
    "version": 3
   },
   "file_extension": ".py",
   "mimetype": "text/x-python",
   "name": "python",
   "nbconvert_exporter": "python",
   "pygments_lexer": "ipython3",
   "version": "3.7.7"
  }
 },
 "nbformat": 4,
 "nbformat_minor": 4
}
